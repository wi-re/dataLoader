{
 "cells": [
  {
   "cell_type": "code",
   "execution_count": 1,
   "id": "cb74ef80",
   "metadata": {},
   "outputs": [],
   "source": [
    "%matplotlib widget\n",
    "import torch\n",
    "import numpy as np\n",
    "from torch.utils.data import Dataset\n",
    "from torch.utils.data import DataLoader\n",
    "import h5py \n",
    "# from BasisConvolution.util.datautils import parseFile\n",
    "import os\n",
    "\n",
    "from state import DataConfiguration\n",
    "from util import processFolder, getDataLoader\n",
    "from newFormatLoader import loadFrame_newFormat_v2, convertNewFormatToWCSPH, loadNewFormatState\n",
    "from loader import loadState\n",
    "from loader import loadBatch\n",
    "from neighborhood import neighborSearch, filterNeighborhoodByKind\n",
    "\n",
    "import warnings\n",
    "from tqdm import TqdmExperimentalWarning\n",
    "warnings.filterwarnings(\"ignore\", category=TqdmExperimentalWarning)\n",
    "from tqdm.autonotebook import tqdm\n",
    "from state import WeaklyCompressibleSPHState, CompressibleSPHState, RigidBodyState\n",
    "from batch import mergeBatch, mergeTrajectoryStates\n",
    "from augment import augmentDomain, rotateState, buildRotationMatrix\n",
    "from util import kernelNameToKernel\n",
    "from augment import loadAugmentedBatch\n",
    "from sphMath.plotting import visualizeParticles, updatePlot\n",
    "import matplotlib.pyplot as plt\n",
    "\n"
   ]
  },
  {
   "cell_type": "code",
   "execution_count": 2,
   "id": "91962d95",
   "metadata": {},
   "outputs": [],
   "source": [
    "\n",
    "folder = '../lagrangebench/datasets/2D_TGV_2500_10kevery100'\n",
    "# folder = '../lagrangebench/datasets/2D_LDC_2708_10kevery100'\n",
    "\n",
    "configuration = DataConfiguration(\n",
    "    frameDistance=1,\n",
    "    frameSpacing=1,\n",
    "    maxRollout=1,\n",
    "    historyLength=1,\n",
    "    skipInitialFrames=0,\n",
    "    cutoff=0\n",
    ")\n"
   ]
  },
  {
   "cell_type": "code",
   "execution_count": 3,
   "id": "511eac6f",
   "metadata": {},
   "outputs": [
    {
     "name": "stdout",
     "output_type": "stream",
     "text": [
      "Found 3 files in ../lagrangebench/datasets/2D_TGV_2500_10kevery100\n"
     ]
    }
   ],
   "source": [
    "files = os.listdir(folder)\n",
    "files = [f for f in files if f.endswith('.h5')]\n",
    "print(f'Found {len(files)} files in {folder}')"
   ]
  },
  {
   "cell_type": "code",
   "execution_count": 4,
   "id": "1a499e49",
   "metadata": {},
   "outputs": [
    {
     "name": "stdout",
     "output_type": "stream",
     "text": [
      "Loading file valid.h5\n"
     ]
    }
   ],
   "source": [
    "inFile = h5py.File(os.path.join(folder, files[0]), 'r')\n",
    "print(f'Loading file {files[0]}')"
   ]
  },
  {
   "cell_type": "code",
   "execution_count": 5,
   "id": "ccc3c044",
   "metadata": {},
   "outputs": [
    {
     "name": "stdout",
     "output_type": "stream",
     "text": [
      "0 0\n",
      "(126, 2500, 2)\n",
      "<KeysViewHDF5 []>\n",
      "50\n"
     ]
    }
   ],
   "source": [
    "types = np.array(inFile['00000']['particle_type'])\n",
    "positions = np.array(inFile['00000']['position'])\n",
    "print(types.min(), types.max())\n",
    "print(positions.shape)\n",
    "print(inFile['00000'].attrs.keys())\n",
    "\n",
    "print(len(inFile.keys()))"
   ]
  },
  {
   "cell_type": "code",
   "execution_count": 6,
   "id": "b4a36985",
   "metadata": {},
   "outputs": [
    {
     "name": "stdout",
     "output_type": "stream",
     "text": [
      "<KeysViewHDF5 ['particle_type', 'position']>\n",
      "<KeysViewHDF5 ['00000', '00001', '00002', '00003', '00004', '00005', '00006', '00007', '00008', '00009', '00010', '00011', '00012', '00013', '00014', '00015', '00016', '00017', '00018', '00019', '00020', '00021', '00022', '00023', '00024', '00025', '00026', '00027', '00028', '00029', '00030', '00031', '00032', '00033', '00034', '00035', '00036', '00037', '00038', '00039', '00040', '00041', '00042', '00043', '00044', '00045', '00046', '00047', '00048', '00049']>\n",
      "<KeysViewHDF5 []>\n"
     ]
    }
   ],
   "source": [
    "print(inFile['00000'].keys())\n",
    "print(inFile.keys())\n",
    "print(inFile.attrs.keys())"
   ]
  },
  {
   "cell_type": "code",
   "execution_count": 7,
   "id": "0463d553",
   "metadata": {},
   "outputs": [],
   "source": [
    "\n",
    "dtype = torch.float32\n",
    "device = torch.device('cpu')"
   ]
  },
  {
   "cell_type": "code",
   "execution_count": 8,
   "id": "5f6666b6",
   "metadata": {},
   "outputs": [],
   "source": [
    "import json"
   ]
  },
  {
   "cell_type": "code",
   "execution_count": 9,
   "id": "ec57704a",
   "metadata": {},
   "outputs": [],
   "source": [
    "\n",
    "metaData = folder + '/metadata.json'\n",
    "parsedMetaData = json.load(open(metaData, 'r'))"
   ]
  },
  {
   "cell_type": "code",
   "execution_count": 10,
   "id": "4b424a15",
   "metadata": {},
   "outputs": [
    {
     "name": "stdout",
     "output_type": "stream",
     "text": [
      "[0.0, 0.0] [1.0, 1.0]\n",
      "[True, True]\n"
     ]
    }
   ],
   "source": [
    "\n",
    "parsedMetaData['bounds'][0]\n",
    "dim = len(parsedMetaData['bounds'])\n",
    "minExtent = []\n",
    "maxExtent = []\n",
    "for i in range(dim):\n",
    "    minExtent.append(parsedMetaData['bounds'][i][0])\n",
    "    maxExtent.append(parsedMetaData['bounds'][i][1])\n",
    "    \n",
    "\n",
    "print(minExtent, maxExtent)\n",
    "\n",
    "periodic = parsedMetaData['periodic_boundary_conditions'][:dim]\n",
    "print(periodic)"
   ]
  },
  {
   "cell_type": "code",
   "execution_count": 11,
   "id": "066bc9a2",
   "metadata": {},
   "outputs": [
    {
     "name": "stdout",
     "output_type": "stream",
     "text": [
      "DomainDescription(min=tensor([0., 0.]), max=tensor([1., 1.]), periodic=tensor([True, True]), dim=2)\n"
     ]
    }
   ],
   "source": [
    "from neighborhood import DomainDescription\n",
    "from sphMath.operations import sph_op\n",
    "from sphMath.kernels import getSPHKernelv2\n",
    "from util import buildRotationMatrix\n",
    "from neighborhood import coo_to_csr\n",
    "\n",
    "\n",
    "domain = DomainDescription(\n",
    "    min = torch.tensor(minExtent, dtype = dtype, device =device),\n",
    "    max = torch.tensor(maxExtent, dtype = dtype, device =device),\n",
    "    periodic = torch.tensor(periodic, dtype = torch.bool, device = device),\n",
    "    dim = dim\n",
    ")\n",
    "\n",
    "print(domain)"
   ]
  },
  {
   "cell_type": "code",
   "execution_count": null,
   "id": "2f0ebe25",
   "metadata": {},
   "outputs": [],
   "source": []
  },
  {
   "cell_type": "code",
   "execution_count": null,
   "id": "b0001567",
   "metadata": {},
   "outputs": [],
   "source": []
  },
  {
   "cell_type": "code",
   "execution_count": null,
   "id": "0ded6578",
   "metadata": {},
   "outputs": [],
   "source": []
  },
  {
   "cell_type": "code",
   "execution_count": 12,
   "id": "eccca6ee",
   "metadata": {},
   "outputs": [],
   "source": [
    "trajectory = '00000'\n",
    "# frame = 1"
   ]
  },
  {
   "cell_type": "code",
   "execution_count": null,
   "id": "f0302138",
   "metadata": {},
   "outputs": [],
   "source": [
    "\n"
   ]
  },
  {
   "cell_type": "code",
   "execution_count": null,
   "id": "41a66627",
   "metadata": {},
   "outputs": [],
   "source": []
  },
  {
   "cell_type": "code",
   "execution_count": null,
   "id": "8dde0f0e",
   "metadata": {},
   "outputs": [],
   "source": []
  },
  {
   "cell_type": "code",
   "execution_count": null,
   "id": "d939f190",
   "metadata": {},
   "outputs": [],
   "source": []
  },
  {
   "cell_type": "code",
   "execution_count": 13,
   "id": "a0222453",
   "metadata": {},
   "outputs": [],
   "source": [
    "def computeVelocity(positions_a, positions_b, dt, domain):\n",
    "    dx = positions_b - positions_a\n",
    "    for i in range(domain.dim):\n",
    "        if domain.periodic[i]:\n",
    "            box_size = domain.max[i] - domain.min[i]\n",
    "            dx_component = dx[:, i]\n",
    "            dx[:, i] = ((dx_component + box_size / 2) % box_size) - box_size / 2\n",
    "    return dx / dt"
   ]
  },
  {
   "cell_type": "code",
   "execution_count": null,
   "id": "efcd52a9",
   "metadata": {},
   "outputs": [],
   "source": []
  },
  {
   "cell_type": "code",
   "execution_count": 14,
   "id": "7eb17bf7",
   "metadata": {},
   "outputs": [],
   "source": [
    "def loadFrame(inFile, trajectory, frame, parsedMetaData):\n",
    "    dt = parsedMetaData['dt'] * parsedMetaData['write_every']\n",
    "    positions = torch.from_numpy(inFile[trajectory]['position'][frame,:]).to(device = device, dtype=dtype)\n",
    "    supports = torch.ones_like(positions[:,0], dtype=dtype, device=device) * parsedMetaData['default_connectivity_radius'] * 2\n",
    "\n",
    "    masses = torch.ones_like(positions[:,0], dtype=dtype, device=device) * parsedMetaData['dx']**parsedMetaData['dim']\n",
    "\n",
    "    densities = torch.ones_like(positions[:,0], dtype=dtype, device=device)\n",
    "\n",
    "    if frame == 0:\n",
    "        nextPositions = torch.from_numpy(inFile[trajectory]['position'][frame+1,:]).to(device = device, dtype=dtype)\n",
    "        # speed = (nextPositions - positions) / dt\n",
    "        speed = - computeVelocity(positions, nextPositions, dt, domain)\n",
    "    else:\n",
    "        nextPositions = torch.from_numpy(inFile[trajectory]['position'][frame-1,:]).to(device = device, dtype=dtype)\n",
    "        speed = computeVelocity(positions, nextPositions, dt, domain)\n",
    "\n",
    "    velocities = speed\n",
    "\n",
    "    kinds = torch.from_numpy(inFile[trajectory]['particle_type'][:]).to(device = device, dtype=torch.int64).clamp(min=0, max=1)\n",
    "    materials = torch.zeros_like(kinds, dtype=torch.int64, device=device)\n",
    "    UIDs = torch.arange(positions.shape[0], dtype=torch.int64, device=device)\n",
    "\n",
    "    numParticles = positions.shape[0]\n",
    "    time = frame * dt\n",
    "    dt = dt\n",
    "    key = f'{trajectory}_{frame}'\n",
    "\n",
    "\n",
    "    state = WeaklyCompressibleSPHState(\n",
    "        positions=positions,\n",
    "        supports=supports,\n",
    "        masses=masses,\n",
    "        velocities=velocities,\n",
    "        densities=densities,\n",
    "        kinds=kinds,\n",
    "        materials=materials,\n",
    "        UIDs=UIDs,\n",
    "        numParticles=numParticles,\n",
    "        time=time,\n",
    "        dt=dt,\n",
    "        key=key,\n",
    "        timestep=frame,\n",
    "    )\n",
    "\n",
    "    neighborhood = neighborSearch(\n",
    "        state=state,\n",
    "        domain=domain,\n",
    "        config=None\n",
    "    )\n",
    "\n",
    "    density = sph_op(\n",
    "        state, state, domain, getSPHKernelv2('CubicSpline'), neighborhood, quantity=state.densities, supportScheme='gather', operation='density')\n",
    "\n",
    "    state.densities = density\n",
    "    filtered_csr = coo_to_csr(neighborhood)\n",
    "\n",
    "    return state\n"
   ]
  },
  {
   "cell_type": "code",
   "execution_count": 15,
   "id": "103c4e68",
   "metadata": {},
   "outputs": [
    {
     "name": "stdout",
     "output_type": "stream",
     "text": [
      "Found 100 trajectories in train.h5\n"
     ]
    },
    {
     "data": {
      "application/vnd.jupyter.widget-view+json": {
       "model_id": "59ea89547e714a4e97425d5e503f697f",
       "version_major": 2,
       "version_minor": 0
      },
      "text/plain": [
       "  0%|          | 0/126 [00:00<?, ?it/s]"
      ]
     },
     "metadata": {},
     "output_type": "display_data"
    },
    {
     "data": {
      "application/vnd.jupyter.widget-view+json": {
       "model_id": "2b167b7bc0b5488ca16ecf3020f887ec",
       "version_major": 2,
       "version_minor": 0
      },
      "text/plain": [
       "  0%|          | 0/126 [00:00<?, ?it/s]"
      ]
     },
     "metadata": {},
     "output_type": "display_data"
    },
    {
     "data": {
      "application/vnd.jupyter.widget-view+json": {
       "model_id": "eb4dbd608b164c5c986e8c31cffdb154",
       "version_major": 2,
       "version_minor": 0
      },
      "text/plain": [
       "  0%|          | 0/126 [00:00<?, ?it/s]"
      ]
     },
     "metadata": {},
     "output_type": "display_data"
    },
    {
     "data": {
      "application/vnd.jupyter.widget-view+json": {
       "model_id": "cd9c6883c9774d94baeed8e511ac19de",
       "version_major": 2,
       "version_minor": 0
      },
      "text/plain": [
       "  0%|          | 0/126 [00:00<?, ?it/s]"
      ]
     },
     "metadata": {},
     "output_type": "display_data"
    },
    {
     "data": {
      "application/vnd.jupyter.widget-view+json": {
       "model_id": "5855d7cb445346bcb8e2c7db55c9bedc",
       "version_major": 2,
       "version_minor": 0
      },
      "text/plain": [
       "  0%|          | 0/126 [00:00<?, ?it/s]"
      ]
     },
     "metadata": {},
     "output_type": "display_data"
    },
    {
     "data": {
      "application/vnd.jupyter.widget-view+json": {
       "model_id": "b2cce97144644bcb975da9e1818098c4",
       "version_major": 2,
       "version_minor": 0
      },
      "text/plain": [
       "  0%|          | 0/126 [00:00<?, ?it/s]"
      ]
     },
     "metadata": {},
     "output_type": "display_data"
    },
    {
     "data": {
      "application/vnd.jupyter.widget-view+json": {
       "model_id": "b2adedeef19b481cb50dbd1833aaed95",
       "version_major": 2,
       "version_minor": 0
      },
      "text/plain": [
       "  0%|          | 0/126 [00:00<?, ?it/s]"
      ]
     },
     "metadata": {},
     "output_type": "display_data"
    },
    {
     "data": {
      "application/vnd.jupyter.widget-view+json": {
       "model_id": "bc3097126abc4c949ea609569781cac2",
       "version_major": 2,
       "version_minor": 0
      },
      "text/plain": [
       "  0%|          | 0/126 [00:00<?, ?it/s]"
      ]
     },
     "metadata": {},
     "output_type": "display_data"
    },
    {
     "data": {
      "application/vnd.jupyter.widget-view+json": {
       "model_id": "3166dc6023674d0a936e42bc17f025fc",
       "version_major": 2,
       "version_minor": 0
      },
      "text/plain": [
       "  0%|          | 0/126 [00:00<?, ?it/s]"
      ]
     },
     "metadata": {},
     "output_type": "display_data"
    },
    {
     "data": {
      "application/vnd.jupyter.widget-view+json": {
       "model_id": "38ec7a83db12432cb101d688c14b7fb1",
       "version_major": 2,
       "version_minor": 0
      },
      "text/plain": [
       "  0%|          | 0/126 [00:00<?, ?it/s]"
      ]
     },
     "metadata": {},
     "output_type": "display_data"
    },
    {
     "data": {
      "application/vnd.jupyter.widget-view+json": {
       "model_id": "d61285758a834f40a3839b99fad92462",
       "version_major": 2,
       "version_minor": 0
      },
      "text/plain": [
       "  0%|          | 0/126 [00:00<?, ?it/s]"
      ]
     },
     "metadata": {},
     "output_type": "display_data"
    },
    {
     "data": {
      "application/vnd.jupyter.widget-view+json": {
       "model_id": "f7447164e7ea4d56b1beef30bf3782a6",
       "version_major": 2,
       "version_minor": 0
      },
      "text/plain": [
       "  0%|          | 0/126 [00:00<?, ?it/s]"
      ]
     },
     "metadata": {},
     "output_type": "display_data"
    },
    {
     "data": {
      "application/vnd.jupyter.widget-view+json": {
       "model_id": "27f5be0aacb940a6b58c9cf1efce2806",
       "version_major": 2,
       "version_minor": 0
      },
      "text/plain": [
       "  0%|          | 0/126 [00:00<?, ?it/s]"
      ]
     },
     "metadata": {},
     "output_type": "display_data"
    },
    {
     "data": {
      "application/vnd.jupyter.widget-view+json": {
       "model_id": "a8ad6f10b7134de19d87d92cdc91ec97",
       "version_major": 2,
       "version_minor": 0
      },
      "text/plain": [
       "  0%|          | 0/126 [00:00<?, ?it/s]"
      ]
     },
     "metadata": {},
     "output_type": "display_data"
    },
    {
     "data": {
      "application/vnd.jupyter.widget-view+json": {
       "model_id": "b4efb34fb8964f9086c5756b0ea6e75c",
       "version_major": 2,
       "version_minor": 0
      },
      "text/plain": [
       "  0%|          | 0/126 [00:00<?, ?it/s]"
      ]
     },
     "metadata": {},
     "output_type": "display_data"
    },
    {
     "data": {
      "application/vnd.jupyter.widget-view+json": {
       "model_id": "cc40d676b1c4433ca5a684530d35e203",
       "version_major": 2,
       "version_minor": 0
      },
      "text/plain": [
       "  0%|          | 0/126 [00:00<?, ?it/s]"
      ]
     },
     "metadata": {},
     "output_type": "display_data"
    },
    {
     "data": {
      "application/vnd.jupyter.widget-view+json": {
       "model_id": "4defa17a21f3449bbe7371ac4c8c468d",
       "version_major": 2,
       "version_minor": 0
      },
      "text/plain": [
       "  0%|          | 0/126 [00:00<?, ?it/s]"
      ]
     },
     "metadata": {},
     "output_type": "display_data"
    },
    {
     "data": {
      "application/vnd.jupyter.widget-view+json": {
       "model_id": "9badc3198b5948699d24c0a8d84830b6",
       "version_major": 2,
       "version_minor": 0
      },
      "text/plain": [
       "  0%|          | 0/126 [00:00<?, ?it/s]"
      ]
     },
     "metadata": {},
     "output_type": "display_data"
    },
    {
     "data": {
      "application/vnd.jupyter.widget-view+json": {
       "model_id": "78cc2da91884465c94bb56e4cbe97bce",
       "version_major": 2,
       "version_minor": 0
      },
      "text/plain": [
       "  0%|          | 0/126 [00:00<?, ?it/s]"
      ]
     },
     "metadata": {},
     "output_type": "display_data"
    },
    {
     "data": {
      "application/vnd.jupyter.widget-view+json": {
       "model_id": "768d8be9e5424d3c88f9d0dc22ab2eba",
       "version_major": 2,
       "version_minor": 0
      },
      "text/plain": [
       "  0%|          | 0/126 [00:00<?, ?it/s]"
      ]
     },
     "metadata": {},
     "output_type": "display_data"
    },
    {
     "data": {
      "application/vnd.jupyter.widget-view+json": {
       "model_id": "8bf12cee1e634e1ba2fe0f13e1f31b1a",
       "version_major": 2,
       "version_minor": 0
      },
      "text/plain": [
       "  0%|          | 0/126 [00:00<?, ?it/s]"
      ]
     },
     "metadata": {},
     "output_type": "display_data"
    },
    {
     "data": {
      "application/vnd.jupyter.widget-view+json": {
       "model_id": "c3a5a310412941eb8416228a726ac402",
       "version_major": 2,
       "version_minor": 0
      },
      "text/plain": [
       "  0%|          | 0/126 [00:00<?, ?it/s]"
      ]
     },
     "metadata": {},
     "output_type": "display_data"
    },
    {
     "data": {
      "application/vnd.jupyter.widget-view+json": {
       "model_id": "7245b934ba29422786c86f5c011b649f",
       "version_major": 2,
       "version_minor": 0
      },
      "text/plain": [
       "  0%|          | 0/126 [00:00<?, ?it/s]"
      ]
     },
     "metadata": {},
     "output_type": "display_data"
    },
    {
     "data": {
      "application/vnd.jupyter.widget-view+json": {
       "model_id": "86dfacee483e4ddcb3c1d3beb566cff2",
       "version_major": 2,
       "version_minor": 0
      },
      "text/plain": [
       "  0%|          | 0/126 [00:00<?, ?it/s]"
      ]
     },
     "metadata": {},
     "output_type": "display_data"
    },
    {
     "data": {
      "application/vnd.jupyter.widget-view+json": {
       "model_id": "bc729baa9b4f496a9f52808305b19d8e",
       "version_major": 2,
       "version_minor": 0
      },
      "text/plain": [
       "  0%|          | 0/126 [00:00<?, ?it/s]"
      ]
     },
     "metadata": {},
     "output_type": "display_data"
    },
    {
     "data": {
      "application/vnd.jupyter.widget-view+json": {
       "model_id": "04e701307ebd4a36a5cae456d849f16f",
       "version_major": 2,
       "version_minor": 0
      },
      "text/plain": [
       "  0%|          | 0/126 [00:00<?, ?it/s]"
      ]
     },
     "metadata": {},
     "output_type": "display_data"
    },
    {
     "data": {
      "application/vnd.jupyter.widget-view+json": {
       "model_id": "428bd1b39930449a832e04029ce88b1d",
       "version_major": 2,
       "version_minor": 0
      },
      "text/plain": [
       "  0%|          | 0/126 [00:00<?, ?it/s]"
      ]
     },
     "metadata": {},
     "output_type": "display_data"
    },
    {
     "data": {
      "application/vnd.jupyter.widget-view+json": {
       "model_id": "5bc4be879d04401d9c3360eb8a8e52d3",
       "version_major": 2,
       "version_minor": 0
      },
      "text/plain": [
       "  0%|          | 0/126 [00:00<?, ?it/s]"
      ]
     },
     "metadata": {},
     "output_type": "display_data"
    },
    {
     "data": {
      "application/vnd.jupyter.widget-view+json": {
       "model_id": "90c7f1023e6448b7add551b501b00a55",
       "version_major": 2,
       "version_minor": 0
      },
      "text/plain": [
       "  0%|          | 0/126 [00:00<?, ?it/s]"
      ]
     },
     "metadata": {},
     "output_type": "display_data"
    },
    {
     "data": {
      "application/vnd.jupyter.widget-view+json": {
       "model_id": "7a7c9122de5f475c8224b5449dc41abd",
       "version_major": 2,
       "version_minor": 0
      },
      "text/plain": [
       "  0%|          | 0/126 [00:00<?, ?it/s]"
      ]
     },
     "metadata": {},
     "output_type": "display_data"
    },
    {
     "data": {
      "application/vnd.jupyter.widget-view+json": {
       "model_id": "3fe769d6884d4cb09eb83463e7df6836",
       "version_major": 2,
       "version_minor": 0
      },
      "text/plain": [
       "  0%|          | 0/126 [00:00<?, ?it/s]"
      ]
     },
     "metadata": {},
     "output_type": "display_data"
    },
    {
     "data": {
      "application/vnd.jupyter.widget-view+json": {
       "model_id": "32f20d0a58d1478c9d41c8405d392d19",
       "version_major": 2,
       "version_minor": 0
      },
      "text/plain": [
       "  0%|          | 0/126 [00:00<?, ?it/s]"
      ]
     },
     "metadata": {},
     "output_type": "display_data"
    },
    {
     "data": {
      "application/vnd.jupyter.widget-view+json": {
       "model_id": "567c7b4e473643988ca1f77822c89993",
       "version_major": 2,
       "version_minor": 0
      },
      "text/plain": [
       "  0%|          | 0/126 [00:00<?, ?it/s]"
      ]
     },
     "metadata": {},
     "output_type": "display_data"
    },
    {
     "data": {
      "application/vnd.jupyter.widget-view+json": {
       "model_id": "f3ded0592b8e4e3b8cb9ba06475787bd",
       "version_major": 2,
       "version_minor": 0
      },
      "text/plain": [
       "  0%|          | 0/126 [00:00<?, ?it/s]"
      ]
     },
     "metadata": {},
     "output_type": "display_data"
    },
    {
     "data": {
      "application/vnd.jupyter.widget-view+json": {
       "model_id": "2778b56f4b584f478019823e9f92863e",
       "version_major": 2,
       "version_minor": 0
      },
      "text/plain": [
       "  0%|          | 0/126 [00:00<?, ?it/s]"
      ]
     },
     "metadata": {},
     "output_type": "display_data"
    },
    {
     "data": {
      "application/vnd.jupyter.widget-view+json": {
       "model_id": "eede6a427a2b4611af5ed52947d248fb",
       "version_major": 2,
       "version_minor": 0
      },
      "text/plain": [
       "  0%|          | 0/126 [00:00<?, ?it/s]"
      ]
     },
     "metadata": {},
     "output_type": "display_data"
    },
    {
     "data": {
      "application/vnd.jupyter.widget-view+json": {
       "model_id": "17fa07248a79445e9362022bf09e6099",
       "version_major": 2,
       "version_minor": 0
      },
      "text/plain": [
       "  0%|          | 0/126 [00:00<?, ?it/s]"
      ]
     },
     "metadata": {},
     "output_type": "display_data"
    },
    {
     "data": {
      "application/vnd.jupyter.widget-view+json": {
       "model_id": "252ac79e9b2d4807920bf72277d24161",
       "version_major": 2,
       "version_minor": 0
      },
      "text/plain": [
       "  0%|          | 0/126 [00:00<?, ?it/s]"
      ]
     },
     "metadata": {},
     "output_type": "display_data"
    },
    {
     "data": {
      "application/vnd.jupyter.widget-view+json": {
       "model_id": "35587cd1ec5a47749fc2249545ebe65b",
       "version_major": 2,
       "version_minor": 0
      },
      "text/plain": [
       "  0%|          | 0/126 [00:00<?, ?it/s]"
      ]
     },
     "metadata": {},
     "output_type": "display_data"
    },
    {
     "data": {
      "application/vnd.jupyter.widget-view+json": {
       "model_id": "cf563e985ffb456eb1821ecca9f6c491",
       "version_major": 2,
       "version_minor": 0
      },
      "text/plain": [
       "  0%|          | 0/126 [00:00<?, ?it/s]"
      ]
     },
     "metadata": {},
     "output_type": "display_data"
    },
    {
     "data": {
      "application/vnd.jupyter.widget-view+json": {
       "model_id": "323dc9f01f154173b3353b605cb04e73",
       "version_major": 2,
       "version_minor": 0
      },
      "text/plain": [
       "  0%|          | 0/126 [00:00<?, ?it/s]"
      ]
     },
     "metadata": {},
     "output_type": "display_data"
    },
    {
     "data": {
      "application/vnd.jupyter.widget-view+json": {
       "model_id": "54ec4bda7dda4ab3acef4d1d9ea0437b",
       "version_major": 2,
       "version_minor": 0
      },
      "text/plain": [
       "  0%|          | 0/126 [00:00<?, ?it/s]"
      ]
     },
     "metadata": {},
     "output_type": "display_data"
    },
    {
     "data": {
      "application/vnd.jupyter.widget-view+json": {
       "model_id": "59476149f71a4ca8a220cda53ba3cf2a",
       "version_major": 2,
       "version_minor": 0
      },
      "text/plain": [
       "  0%|          | 0/126 [00:00<?, ?it/s]"
      ]
     },
     "metadata": {},
     "output_type": "display_data"
    },
    {
     "data": {
      "application/vnd.jupyter.widget-view+json": {
       "model_id": "4fc20b4b8c1b4a48b3927c786bbe8a1d",
       "version_major": 2,
       "version_minor": 0
      },
      "text/plain": [
       "  0%|          | 0/126 [00:00<?, ?it/s]"
      ]
     },
     "metadata": {},
     "output_type": "display_data"
    },
    {
     "data": {
      "application/vnd.jupyter.widget-view+json": {
       "model_id": "8d8484865acc4be19ee4f5d131c2f7bf",
       "version_major": 2,
       "version_minor": 0
      },
      "text/plain": [
       "  0%|          | 0/126 [00:00<?, ?it/s]"
      ]
     },
     "metadata": {},
     "output_type": "display_data"
    },
    {
     "data": {
      "application/vnd.jupyter.widget-view+json": {
       "model_id": "33109d6a9a0746899c3e315cfa96d37a",
       "version_major": 2,
       "version_minor": 0
      },
      "text/plain": [
       "  0%|          | 0/126 [00:00<?, ?it/s]"
      ]
     },
     "metadata": {},
     "output_type": "display_data"
    },
    {
     "data": {
      "application/vnd.jupyter.widget-view+json": {
       "model_id": "ca9cdd5812a5492ca1b0b5d1d0009384",
       "version_major": 2,
       "version_minor": 0
      },
      "text/plain": [
       "  0%|          | 0/126 [00:00<?, ?it/s]"
      ]
     },
     "metadata": {},
     "output_type": "display_data"
    },
    {
     "data": {
      "application/vnd.jupyter.widget-view+json": {
       "model_id": "155a6aafcb684d13a785c736156a67d4",
       "version_major": 2,
       "version_minor": 0
      },
      "text/plain": [
       "  0%|          | 0/126 [00:00<?, ?it/s]"
      ]
     },
     "metadata": {},
     "output_type": "display_data"
    },
    {
     "data": {
      "application/vnd.jupyter.widget-view+json": {
       "model_id": "b222c7480fc348b49a016006fb928b15",
       "version_major": 2,
       "version_minor": 0
      },
      "text/plain": [
       "  0%|          | 0/126 [00:00<?, ?it/s]"
      ]
     },
     "metadata": {},
     "output_type": "display_data"
    },
    {
     "data": {
      "application/vnd.jupyter.widget-view+json": {
       "model_id": "39d8e3bc7e6f4a57b0338b86f125dd80",
       "version_major": 2,
       "version_minor": 0
      },
      "text/plain": [
       "  0%|          | 0/126 [00:00<?, ?it/s]"
      ]
     },
     "metadata": {},
     "output_type": "display_data"
    },
    {
     "data": {
      "application/vnd.jupyter.widget-view+json": {
       "model_id": "9c522f3632da4f3688a56c6b10a2bf5d",
       "version_major": 2,
       "version_minor": 0
      },
      "text/plain": [
       "  0%|          | 0/126 [00:00<?, ?it/s]"
      ]
     },
     "metadata": {},
     "output_type": "display_data"
    },
    {
     "data": {
      "application/vnd.jupyter.widget-view+json": {
       "model_id": "7d95b8b40d2e4b27af780500c8dd7f24",
       "version_major": 2,
       "version_minor": 0
      },
      "text/plain": [
       "  0%|          | 0/126 [00:00<?, ?it/s]"
      ]
     },
     "metadata": {},
     "output_type": "display_data"
    },
    {
     "data": {
      "application/vnd.jupyter.widget-view+json": {
       "model_id": "05b3b012ce6e434d9c16949d6d0409be",
       "version_major": 2,
       "version_minor": 0
      },
      "text/plain": [
       "  0%|          | 0/126 [00:00<?, ?it/s]"
      ]
     },
     "metadata": {},
     "output_type": "display_data"
    },
    {
     "data": {
      "application/vnd.jupyter.widget-view+json": {
       "model_id": "9fa36cd383ca429da89577fc4e21de48",
       "version_major": 2,
       "version_minor": 0
      },
      "text/plain": [
       "  0%|          | 0/126 [00:00<?, ?it/s]"
      ]
     },
     "metadata": {},
     "output_type": "display_data"
    },
    {
     "data": {
      "application/vnd.jupyter.widget-view+json": {
       "model_id": "3b0afaf452414ada828585e2c666ddc6",
       "version_major": 2,
       "version_minor": 0
      },
      "text/plain": [
       "  0%|          | 0/126 [00:00<?, ?it/s]"
      ]
     },
     "metadata": {},
     "output_type": "display_data"
    },
    {
     "data": {
      "application/vnd.jupyter.widget-view+json": {
       "model_id": "18eb41fb06c64c26ad16c71e6b6316ee",
       "version_major": 2,
       "version_minor": 0
      },
      "text/plain": [
       "  0%|          | 0/126 [00:00<?, ?it/s]"
      ]
     },
     "metadata": {},
     "output_type": "display_data"
    },
    {
     "data": {
      "application/vnd.jupyter.widget-view+json": {
       "model_id": "715a3eb328ad472b8030721a38f5b5c8",
       "version_major": 2,
       "version_minor": 0
      },
      "text/plain": [
       "  0%|          | 0/126 [00:00<?, ?it/s]"
      ]
     },
     "metadata": {},
     "output_type": "display_data"
    },
    {
     "data": {
      "application/vnd.jupyter.widget-view+json": {
       "model_id": "639f4b5005a346c9a01526032c3be6de",
       "version_major": 2,
       "version_minor": 0
      },
      "text/plain": [
       "  0%|          | 0/126 [00:00<?, ?it/s]"
      ]
     },
     "metadata": {},
     "output_type": "display_data"
    },
    {
     "data": {
      "application/vnd.jupyter.widget-view+json": {
       "model_id": "6e33ed15cfa6400895f846bb66ff2991",
       "version_major": 2,
       "version_minor": 0
      },
      "text/plain": [
       "  0%|          | 0/126 [00:00<?, ?it/s]"
      ]
     },
     "metadata": {},
     "output_type": "display_data"
    },
    {
     "data": {
      "application/vnd.jupyter.widget-view+json": {
       "model_id": "39599c01faac41d2805ed764ef984ee5",
       "version_major": 2,
       "version_minor": 0
      },
      "text/plain": [
       "  0%|          | 0/126 [00:00<?, ?it/s]"
      ]
     },
     "metadata": {},
     "output_type": "display_data"
    },
    {
     "data": {
      "application/vnd.jupyter.widget-view+json": {
       "model_id": "33cddc48973849eeb85aaee80fc24b96",
       "version_major": 2,
       "version_minor": 0
      },
      "text/plain": [
       "  0%|          | 0/126 [00:00<?, ?it/s]"
      ]
     },
     "metadata": {},
     "output_type": "display_data"
    },
    {
     "data": {
      "application/vnd.jupyter.widget-view+json": {
       "model_id": "c6d120ffb01d4677b00fda76d9e1c121",
       "version_major": 2,
       "version_minor": 0
      },
      "text/plain": [
       "  0%|          | 0/126 [00:00<?, ?it/s]"
      ]
     },
     "metadata": {},
     "output_type": "display_data"
    },
    {
     "data": {
      "application/vnd.jupyter.widget-view+json": {
       "model_id": "39189c8715bc4e90a57a948a2303d6a2",
       "version_major": 2,
       "version_minor": 0
      },
      "text/plain": [
       "  0%|          | 0/126 [00:00<?, ?it/s]"
      ]
     },
     "metadata": {},
     "output_type": "display_data"
    },
    {
     "data": {
      "application/vnd.jupyter.widget-view+json": {
       "model_id": "463758cab8ff49cda3964e0e68450274",
       "version_major": 2,
       "version_minor": 0
      },
      "text/plain": [
       "  0%|          | 0/126 [00:00<?, ?it/s]"
      ]
     },
     "metadata": {},
     "output_type": "display_data"
    },
    {
     "data": {
      "application/vnd.jupyter.widget-view+json": {
       "model_id": "a0347385a396411fa0be0ee998e4ad54",
       "version_major": 2,
       "version_minor": 0
      },
      "text/plain": [
       "  0%|          | 0/126 [00:00<?, ?it/s]"
      ]
     },
     "metadata": {},
     "output_type": "display_data"
    },
    {
     "data": {
      "application/vnd.jupyter.widget-view+json": {
       "model_id": "8667f72ddca44869b9eab134574e3003",
       "version_major": 2,
       "version_minor": 0
      },
      "text/plain": [
       "  0%|          | 0/126 [00:00<?, ?it/s]"
      ]
     },
     "metadata": {},
     "output_type": "display_data"
    },
    {
     "data": {
      "application/vnd.jupyter.widget-view+json": {
       "model_id": "d16f240143214767bf932b03156a4f80",
       "version_major": 2,
       "version_minor": 0
      },
      "text/plain": [
       "  0%|          | 0/126 [00:00<?, ?it/s]"
      ]
     },
     "metadata": {},
     "output_type": "display_data"
    },
    {
     "data": {
      "application/vnd.jupyter.widget-view+json": {
       "model_id": "dcb7566ec8bb45278fe7dbde5fc1a719",
       "version_major": 2,
       "version_minor": 0
      },
      "text/plain": [
       "  0%|          | 0/126 [00:00<?, ?it/s]"
      ]
     },
     "metadata": {},
     "output_type": "display_data"
    },
    {
     "data": {
      "application/vnd.jupyter.widget-view+json": {
       "model_id": "78bc22427fc748bcae7c0f93d6ba7cc4",
       "version_major": 2,
       "version_minor": 0
      },
      "text/plain": [
       "  0%|          | 0/126 [00:00<?, ?it/s]"
      ]
     },
     "metadata": {},
     "output_type": "display_data"
    },
    {
     "data": {
      "application/vnd.jupyter.widget-view+json": {
       "model_id": "4078c8bdabac48629c221d1f10546306",
       "version_major": 2,
       "version_minor": 0
      },
      "text/plain": [
       "  0%|          | 0/126 [00:00<?, ?it/s]"
      ]
     },
     "metadata": {},
     "output_type": "display_data"
    },
    {
     "data": {
      "application/vnd.jupyter.widget-view+json": {
       "model_id": "781a2b124a1242e7b0c4747efc3ac8d0",
       "version_major": 2,
       "version_minor": 0
      },
      "text/plain": [
       "  0%|          | 0/126 [00:00<?, ?it/s]"
      ]
     },
     "metadata": {},
     "output_type": "display_data"
    },
    {
     "data": {
      "application/vnd.jupyter.widget-view+json": {
       "model_id": "7704f8fb95d04166aa1b6cdfaca61bef",
       "version_major": 2,
       "version_minor": 0
      },
      "text/plain": [
       "  0%|          | 0/126 [00:00<?, ?it/s]"
      ]
     },
     "metadata": {},
     "output_type": "display_data"
    },
    {
     "data": {
      "application/vnd.jupyter.widget-view+json": {
       "model_id": "8ac7970a19a343448f97a8e1b60161e9",
       "version_major": 2,
       "version_minor": 0
      },
      "text/plain": [
       "  0%|          | 0/126 [00:00<?, ?it/s]"
      ]
     },
     "metadata": {},
     "output_type": "display_data"
    },
    {
     "data": {
      "application/vnd.jupyter.widget-view+json": {
       "model_id": "2927c68d7867421e8140aa7246a206ec",
       "version_major": 2,
       "version_minor": 0
      },
      "text/plain": [
       "  0%|          | 0/126 [00:00<?, ?it/s]"
      ]
     },
     "metadata": {},
     "output_type": "display_data"
    },
    {
     "data": {
      "application/vnd.jupyter.widget-view+json": {
       "model_id": "4c6b9e2ae7a849709050b4368bd35783",
       "version_major": 2,
       "version_minor": 0
      },
      "text/plain": [
       "  0%|          | 0/126 [00:00<?, ?it/s]"
      ]
     },
     "metadata": {},
     "output_type": "display_data"
    },
    {
     "data": {
      "application/vnd.jupyter.widget-view+json": {
       "model_id": "f8900ec95b8546f487546975a516a9fe",
       "version_major": 2,
       "version_minor": 0
      },
      "text/plain": [
       "  0%|          | 0/126 [00:00<?, ?it/s]"
      ]
     },
     "metadata": {},
     "output_type": "display_data"
    },
    {
     "data": {
      "application/vnd.jupyter.widget-view+json": {
       "model_id": "8a482e20b5df48ee947d5d4c0200312b",
       "version_major": 2,
       "version_minor": 0
      },
      "text/plain": [
       "  0%|          | 0/126 [00:00<?, ?it/s]"
      ]
     },
     "metadata": {},
     "output_type": "display_data"
    },
    {
     "data": {
      "application/vnd.jupyter.widget-view+json": {
       "model_id": "423232dfe12c4f8fafb1ba41b4f26cd9",
       "version_major": 2,
       "version_minor": 0
      },
      "text/plain": [
       "  0%|          | 0/126 [00:00<?, ?it/s]"
      ]
     },
     "metadata": {},
     "output_type": "display_data"
    },
    {
     "data": {
      "application/vnd.jupyter.widget-view+json": {
       "model_id": "d27e9eece77e473d97ee61c19f257e89",
       "version_major": 2,
       "version_minor": 0
      },
      "text/plain": [
       "  0%|          | 0/126 [00:00<?, ?it/s]"
      ]
     },
     "metadata": {},
     "output_type": "display_data"
    },
    {
     "data": {
      "application/vnd.jupyter.widget-view+json": {
       "model_id": "c7ff377497ac420dbe574ebca7d017ad",
       "version_major": 2,
       "version_minor": 0
      },
      "text/plain": [
       "  0%|          | 0/126 [00:00<?, ?it/s]"
      ]
     },
     "metadata": {},
     "output_type": "display_data"
    },
    {
     "data": {
      "application/vnd.jupyter.widget-view+json": {
       "model_id": "09b3fad4f4624478a9ce653dc67d5fc3",
       "version_major": 2,
       "version_minor": 0
      },
      "text/plain": [
       "  0%|          | 0/126 [00:00<?, ?it/s]"
      ]
     },
     "metadata": {},
     "output_type": "display_data"
    },
    {
     "data": {
      "application/vnd.jupyter.widget-view+json": {
       "model_id": "529906edbecc4cd1929f4c6385617eb6",
       "version_major": 2,
       "version_minor": 0
      },
      "text/plain": [
       "  0%|          | 0/126 [00:00<?, ?it/s]"
      ]
     },
     "metadata": {},
     "output_type": "display_data"
    },
    {
     "data": {
      "application/vnd.jupyter.widget-view+json": {
       "model_id": "22411633efed42f590139cca6bf62c1b",
       "version_major": 2,
       "version_minor": 0
      },
      "text/plain": [
       "  0%|          | 0/126 [00:00<?, ?it/s]"
      ]
     },
     "metadata": {},
     "output_type": "display_data"
    },
    {
     "data": {
      "application/vnd.jupyter.widget-view+json": {
       "model_id": "74bd47db2be24104aa1c82d71dafc52a",
       "version_major": 2,
       "version_minor": 0
      },
      "text/plain": [
       "  0%|          | 0/126 [00:00<?, ?it/s]"
      ]
     },
     "metadata": {},
     "output_type": "display_data"
    },
    {
     "data": {
      "application/vnd.jupyter.widget-view+json": {
       "model_id": "2ef11fb27d3d4880bf6ec0cf068d522a",
       "version_major": 2,
       "version_minor": 0
      },
      "text/plain": [
       "  0%|          | 0/126 [00:00<?, ?it/s]"
      ]
     },
     "metadata": {},
     "output_type": "display_data"
    },
    {
     "data": {
      "application/vnd.jupyter.widget-view+json": {
       "model_id": "e295fbd6d4bf4debb9cd662c56929d15",
       "version_major": 2,
       "version_minor": 0
      },
      "text/plain": [
       "  0%|          | 0/126 [00:00<?, ?it/s]"
      ]
     },
     "metadata": {},
     "output_type": "display_data"
    },
    {
     "data": {
      "application/vnd.jupyter.widget-view+json": {
       "model_id": "b2f5d6ba86294480a0a852b08a8ae8bc",
       "version_major": 2,
       "version_minor": 0
      },
      "text/plain": [
       "  0%|          | 0/126 [00:00<?, ?it/s]"
      ]
     },
     "metadata": {},
     "output_type": "display_data"
    },
    {
     "data": {
      "application/vnd.jupyter.widget-view+json": {
       "model_id": "98a5478afd1d4d90b8463844d7414f7e",
       "version_major": 2,
       "version_minor": 0
      },
      "text/plain": [
       "  0%|          | 0/126 [00:00<?, ?it/s]"
      ]
     },
     "metadata": {},
     "output_type": "display_data"
    },
    {
     "data": {
      "application/vnd.jupyter.widget-view+json": {
       "model_id": "31cf8c4543d14f5a9c7205df28fecf09",
       "version_major": 2,
       "version_minor": 0
      },
      "text/plain": [
       "  0%|          | 0/126 [00:00<?, ?it/s]"
      ]
     },
     "metadata": {},
     "output_type": "display_data"
    },
    {
     "data": {
      "application/vnd.jupyter.widget-view+json": {
       "model_id": "f350ed1acefc46ec9843a2cf32892f8f",
       "version_major": 2,
       "version_minor": 0
      },
      "text/plain": [
       "  0%|          | 0/126 [00:00<?, ?it/s]"
      ]
     },
     "metadata": {},
     "output_type": "display_data"
    },
    {
     "data": {
      "application/vnd.jupyter.widget-view+json": {
       "model_id": "b40d2b7723b84781a1e104cb9c99e0fe",
       "version_major": 2,
       "version_minor": 0
      },
      "text/plain": [
       "  0%|          | 0/126 [00:00<?, ?it/s]"
      ]
     },
     "metadata": {},
     "output_type": "display_data"
    },
    {
     "data": {
      "application/vnd.jupyter.widget-view+json": {
       "model_id": "ed2289ae24fc4eb59b90b35fc6e4390c",
       "version_major": 2,
       "version_minor": 0
      },
      "text/plain": [
       "  0%|          | 0/126 [00:00<?, ?it/s]"
      ]
     },
     "metadata": {},
     "output_type": "display_data"
    },
    {
     "data": {
      "application/vnd.jupyter.widget-view+json": {
       "model_id": "54b12862da2b4d15af8f5229dc67dae6",
       "version_major": 2,
       "version_minor": 0
      },
      "text/plain": [
       "  0%|          | 0/126 [00:00<?, ?it/s]"
      ]
     },
     "metadata": {},
     "output_type": "display_data"
    },
    {
     "data": {
      "application/vnd.jupyter.widget-view+json": {
       "model_id": "71b22a397ca24a77ba3739326c5ffbeb",
       "version_major": 2,
       "version_minor": 0
      },
      "text/plain": [
       "  0%|          | 0/126 [00:00<?, ?it/s]"
      ]
     },
     "metadata": {},
     "output_type": "display_data"
    },
    {
     "data": {
      "application/vnd.jupyter.widget-view+json": {
       "model_id": "1ae9b17afd7e4e459fee8f7041e099e7",
       "version_major": 2,
       "version_minor": 0
      },
      "text/plain": [
       "  0%|          | 0/126 [00:00<?, ?it/s]"
      ]
     },
     "metadata": {},
     "output_type": "display_data"
    },
    {
     "data": {
      "application/vnd.jupyter.widget-view+json": {
       "model_id": "c6dfb056e72d4669a8cc5a1b277b313b",
       "version_major": 2,
       "version_minor": 0
      },
      "text/plain": [
       "  0%|          | 0/126 [00:00<?, ?it/s]"
      ]
     },
     "metadata": {},
     "output_type": "display_data"
    },
    {
     "data": {
      "application/vnd.jupyter.widget-view+json": {
       "model_id": "bcd4a5c94d8248129d32d2fbb9bab3f2",
       "version_major": 2,
       "version_minor": 0
      },
      "text/plain": [
       "  0%|          | 0/126 [00:00<?, ?it/s]"
      ]
     },
     "metadata": {},
     "output_type": "display_data"
    },
    {
     "data": {
      "application/vnd.jupyter.widget-view+json": {
       "model_id": "8657281689a5484483d79ae529bd12b1",
       "version_major": 2,
       "version_minor": 0
      },
      "text/plain": [
       "  0%|          | 0/126 [00:00<?, ?it/s]"
      ]
     },
     "metadata": {},
     "output_type": "display_data"
    },
    {
     "data": {
      "application/vnd.jupyter.widget-view+json": {
       "model_id": "d5a02a38de90453d86f1c3a0748062bf",
       "version_major": 2,
       "version_minor": 0
      },
      "text/plain": [
       "  0%|          | 0/126 [00:00<?, ?it/s]"
      ]
     },
     "metadata": {},
     "output_type": "display_data"
    },
    {
     "data": {
      "application/vnd.jupyter.widget-view+json": {
       "model_id": "b571a171e49b46b0bb5dacfe6852f834",
       "version_major": 2,
       "version_minor": 0
      },
      "text/plain": [
       "  0%|          | 0/126 [00:00<?, ?it/s]"
      ]
     },
     "metadata": {},
     "output_type": "display_data"
    },
    {
     "name": "stdout",
     "output_type": "stream",
     "text": [
      "Found 50 trajectories in test.h5\n"
     ]
    },
    {
     "data": {
      "application/vnd.jupyter.widget-view+json": {
       "model_id": "2591d16076894a7483df81d26b2c7054",
       "version_major": 2,
       "version_minor": 0
      },
      "text/plain": [
       "  0%|          | 0/126 [00:00<?, ?it/s]"
      ]
     },
     "metadata": {},
     "output_type": "display_data"
    },
    {
     "data": {
      "application/vnd.jupyter.widget-view+json": {
       "model_id": "b63250efcc2e4dcb8a049fb20a160b2b",
       "version_major": 2,
       "version_minor": 0
      },
      "text/plain": [
       "  0%|          | 0/126 [00:00<?, ?it/s]"
      ]
     },
     "metadata": {},
     "output_type": "display_data"
    },
    {
     "data": {
      "application/vnd.jupyter.widget-view+json": {
       "model_id": "46fbf1907e384a1dbe50c74bf2e093aa",
       "version_major": 2,
       "version_minor": 0
      },
      "text/plain": [
       "  0%|          | 0/126 [00:00<?, ?it/s]"
      ]
     },
     "metadata": {},
     "output_type": "display_data"
    },
    {
     "data": {
      "application/vnd.jupyter.widget-view+json": {
       "model_id": "f0f14df2fe524319adbbaf9d315c8123",
       "version_major": 2,
       "version_minor": 0
      },
      "text/plain": [
       "  0%|          | 0/126 [00:00<?, ?it/s]"
      ]
     },
     "metadata": {},
     "output_type": "display_data"
    },
    {
     "data": {
      "application/vnd.jupyter.widget-view+json": {
       "model_id": "ecf13a8c0a0a467c91b40729b6e739e1",
       "version_major": 2,
       "version_minor": 0
      },
      "text/plain": [
       "  0%|          | 0/126 [00:00<?, ?it/s]"
      ]
     },
     "metadata": {},
     "output_type": "display_data"
    },
    {
     "data": {
      "application/vnd.jupyter.widget-view+json": {
       "model_id": "a214a0054f5c4359a9fe0fd9c3e4dbcd",
       "version_major": 2,
       "version_minor": 0
      },
      "text/plain": [
       "  0%|          | 0/126 [00:00<?, ?it/s]"
      ]
     },
     "metadata": {},
     "output_type": "display_data"
    },
    {
     "data": {
      "application/vnd.jupyter.widget-view+json": {
       "model_id": "b8de1b0e8d29457a88fe056db6c96acf",
       "version_major": 2,
       "version_minor": 0
      },
      "text/plain": [
       "  0%|          | 0/126 [00:00<?, ?it/s]"
      ]
     },
     "metadata": {},
     "output_type": "display_data"
    },
    {
     "data": {
      "application/vnd.jupyter.widget-view+json": {
       "model_id": "45a646cf330748b3855341093f870fdf",
       "version_major": 2,
       "version_minor": 0
      },
      "text/plain": [
       "  0%|          | 0/126 [00:00<?, ?it/s]"
      ]
     },
     "metadata": {},
     "output_type": "display_data"
    },
    {
     "data": {
      "application/vnd.jupyter.widget-view+json": {
       "model_id": "1129ca23ba5f40c28f9568f1a70ebda2",
       "version_major": 2,
       "version_minor": 0
      },
      "text/plain": [
       "  0%|          | 0/126 [00:00<?, ?it/s]"
      ]
     },
     "metadata": {},
     "output_type": "display_data"
    },
    {
     "data": {
      "application/vnd.jupyter.widget-view+json": {
       "model_id": "6071bd21b327459a857f28d762efb65b",
       "version_major": 2,
       "version_minor": 0
      },
      "text/plain": [
       "  0%|          | 0/126 [00:00<?, ?it/s]"
      ]
     },
     "metadata": {},
     "output_type": "display_data"
    },
    {
     "data": {
      "application/vnd.jupyter.widget-view+json": {
       "model_id": "f7ba54bdaca84e1583e7b5124eda51f1",
       "version_major": 2,
       "version_minor": 0
      },
      "text/plain": [
       "  0%|          | 0/126 [00:00<?, ?it/s]"
      ]
     },
     "metadata": {},
     "output_type": "display_data"
    },
    {
     "data": {
      "application/vnd.jupyter.widget-view+json": {
       "model_id": "9e277de4be7547adada4486cdcc64ae1",
       "version_major": 2,
       "version_minor": 0
      },
      "text/plain": [
       "  0%|          | 0/126 [00:00<?, ?it/s]"
      ]
     },
     "metadata": {},
     "output_type": "display_data"
    },
    {
     "data": {
      "application/vnd.jupyter.widget-view+json": {
       "model_id": "ca3cb3654b6e4e3ba57c1d391b8f0e58",
       "version_major": 2,
       "version_minor": 0
      },
      "text/plain": [
       "  0%|          | 0/126 [00:00<?, ?it/s]"
      ]
     },
     "metadata": {},
     "output_type": "display_data"
    },
    {
     "data": {
      "application/vnd.jupyter.widget-view+json": {
       "model_id": "e522706b68464463b2f9233f06c75ee5",
       "version_major": 2,
       "version_minor": 0
      },
      "text/plain": [
       "  0%|          | 0/126 [00:00<?, ?it/s]"
      ]
     },
     "metadata": {},
     "output_type": "display_data"
    },
    {
     "data": {
      "application/vnd.jupyter.widget-view+json": {
       "model_id": "ea9dcf3c18c4481ab0f6a7bc713a0dbe",
       "version_major": 2,
       "version_minor": 0
      },
      "text/plain": [
       "  0%|          | 0/126 [00:00<?, ?it/s]"
      ]
     },
     "metadata": {},
     "output_type": "display_data"
    },
    {
     "data": {
      "application/vnd.jupyter.widget-view+json": {
       "model_id": "b4dba00c2a354406b858ffb1b1590f43",
       "version_major": 2,
       "version_minor": 0
      },
      "text/plain": [
       "  0%|          | 0/126 [00:00<?, ?it/s]"
      ]
     },
     "metadata": {},
     "output_type": "display_data"
    },
    {
     "data": {
      "application/vnd.jupyter.widget-view+json": {
       "model_id": "d5ef80e5987643a6b5139507d6b9467b",
       "version_major": 2,
       "version_minor": 0
      },
      "text/plain": [
       "  0%|          | 0/126 [00:00<?, ?it/s]"
      ]
     },
     "metadata": {},
     "output_type": "display_data"
    },
    {
     "data": {
      "application/vnd.jupyter.widget-view+json": {
       "model_id": "e7d0aa2357b24aab8abf6f8c11008d79",
       "version_major": 2,
       "version_minor": 0
      },
      "text/plain": [
       "  0%|          | 0/126 [00:00<?, ?it/s]"
      ]
     },
     "metadata": {},
     "output_type": "display_data"
    },
    {
     "data": {
      "application/vnd.jupyter.widget-view+json": {
       "model_id": "fca2a64620c44a54a8098aed2ccbcee1",
       "version_major": 2,
       "version_minor": 0
      },
      "text/plain": [
       "  0%|          | 0/126 [00:00<?, ?it/s]"
      ]
     },
     "metadata": {},
     "output_type": "display_data"
    },
    {
     "data": {
      "application/vnd.jupyter.widget-view+json": {
       "model_id": "7c870c20a3494c33af5a9920e087bf6f",
       "version_major": 2,
       "version_minor": 0
      },
      "text/plain": [
       "  0%|          | 0/126 [00:00<?, ?it/s]"
      ]
     },
     "metadata": {},
     "output_type": "display_data"
    },
    {
     "data": {
      "application/vnd.jupyter.widget-view+json": {
       "model_id": "c595c2433d4c48b184c8e4f00b1a7178",
       "version_major": 2,
       "version_minor": 0
      },
      "text/plain": [
       "  0%|          | 0/126 [00:00<?, ?it/s]"
      ]
     },
     "metadata": {},
     "output_type": "display_data"
    },
    {
     "data": {
      "application/vnd.jupyter.widget-view+json": {
       "model_id": "a6f02608b8a9452ca9a8016d4edf0bea",
       "version_major": 2,
       "version_minor": 0
      },
      "text/plain": [
       "  0%|          | 0/126 [00:00<?, ?it/s]"
      ]
     },
     "metadata": {},
     "output_type": "display_data"
    },
    {
     "data": {
      "application/vnd.jupyter.widget-view+json": {
       "model_id": "869a8617bff34a6eb0047d8a91c8e72c",
       "version_major": 2,
       "version_minor": 0
      },
      "text/plain": [
       "  0%|          | 0/126 [00:00<?, ?it/s]"
      ]
     },
     "metadata": {},
     "output_type": "display_data"
    },
    {
     "data": {
      "application/vnd.jupyter.widget-view+json": {
       "model_id": "126c9ebdf1f24fe7b519db8e49321742",
       "version_major": 2,
       "version_minor": 0
      },
      "text/plain": [
       "  0%|          | 0/126 [00:00<?, ?it/s]"
      ]
     },
     "metadata": {},
     "output_type": "display_data"
    },
    {
     "data": {
      "application/vnd.jupyter.widget-view+json": {
       "model_id": "123e27f8ca6b48f1b7672c427dee0130",
       "version_major": 2,
       "version_minor": 0
      },
      "text/plain": [
       "  0%|          | 0/126 [00:00<?, ?it/s]"
      ]
     },
     "metadata": {},
     "output_type": "display_data"
    },
    {
     "data": {
      "application/vnd.jupyter.widget-view+json": {
       "model_id": "aeb4328c49644ee1a3f6436c88da1fe6",
       "version_major": 2,
       "version_minor": 0
      },
      "text/plain": [
       "  0%|          | 0/126 [00:00<?, ?it/s]"
      ]
     },
     "metadata": {},
     "output_type": "display_data"
    },
    {
     "data": {
      "application/vnd.jupyter.widget-view+json": {
       "model_id": "d0752be967e34ced9e47356576094973",
       "version_major": 2,
       "version_minor": 0
      },
      "text/plain": [
       "  0%|          | 0/126 [00:00<?, ?it/s]"
      ]
     },
     "metadata": {},
     "output_type": "display_data"
    },
    {
     "data": {
      "application/vnd.jupyter.widget-view+json": {
       "model_id": "b0531a2f7a9c4019b2aa28cd0585a9ba",
       "version_major": 2,
       "version_minor": 0
      },
      "text/plain": [
       "  0%|          | 0/126 [00:00<?, ?it/s]"
      ]
     },
     "metadata": {},
     "output_type": "display_data"
    },
    {
     "data": {
      "application/vnd.jupyter.widget-view+json": {
       "model_id": "a11a1e6956f04ca1bc106b3491418d51",
       "version_major": 2,
       "version_minor": 0
      },
      "text/plain": [
       "  0%|          | 0/126 [00:00<?, ?it/s]"
      ]
     },
     "metadata": {},
     "output_type": "display_data"
    },
    {
     "data": {
      "application/vnd.jupyter.widget-view+json": {
       "model_id": "6d6084088bbc464dab7244308f97be22",
       "version_major": 2,
       "version_minor": 0
      },
      "text/plain": [
       "  0%|          | 0/126 [00:00<?, ?it/s]"
      ]
     },
     "metadata": {},
     "output_type": "display_data"
    },
    {
     "data": {
      "application/vnd.jupyter.widget-view+json": {
       "model_id": "120ce3546b8f4510813814f1f2be2bf6",
       "version_major": 2,
       "version_minor": 0
      },
      "text/plain": [
       "  0%|          | 0/126 [00:00<?, ?it/s]"
      ]
     },
     "metadata": {},
     "output_type": "display_data"
    },
    {
     "data": {
      "application/vnd.jupyter.widget-view+json": {
       "model_id": "0a4a337e347f4b3cb0e39ee40ec7cd2f",
       "version_major": 2,
       "version_minor": 0
      },
      "text/plain": [
       "  0%|          | 0/126 [00:00<?, ?it/s]"
      ]
     },
     "metadata": {},
     "output_type": "display_data"
    },
    {
     "data": {
      "application/vnd.jupyter.widget-view+json": {
       "model_id": "f3e1bdd42fe4400788a83f91cfa56e87",
       "version_major": 2,
       "version_minor": 0
      },
      "text/plain": [
       "  0%|          | 0/126 [00:00<?, ?it/s]"
      ]
     },
     "metadata": {},
     "output_type": "display_data"
    },
    {
     "data": {
      "application/vnd.jupyter.widget-view+json": {
       "model_id": "73c23b4e531941e3b7840962b2b6e59d",
       "version_major": 2,
       "version_minor": 0
      },
      "text/plain": [
       "  0%|          | 0/126 [00:00<?, ?it/s]"
      ]
     },
     "metadata": {},
     "output_type": "display_data"
    },
    {
     "data": {
      "application/vnd.jupyter.widget-view+json": {
       "model_id": "8a53d92791944909a87afc9e9bc24d47",
       "version_major": 2,
       "version_minor": 0
      },
      "text/plain": [
       "  0%|          | 0/126 [00:00<?, ?it/s]"
      ]
     },
     "metadata": {},
     "output_type": "display_data"
    },
    {
     "data": {
      "application/vnd.jupyter.widget-view+json": {
       "model_id": "2487b272ae974ab49fae1db837f2f858",
       "version_major": 2,
       "version_minor": 0
      },
      "text/plain": [
       "  0%|          | 0/126 [00:00<?, ?it/s]"
      ]
     },
     "metadata": {},
     "output_type": "display_data"
    },
    {
     "data": {
      "application/vnd.jupyter.widget-view+json": {
       "model_id": "2267cc72324b45e2a9a1ead49eabcee5",
       "version_major": 2,
       "version_minor": 0
      },
      "text/plain": [
       "  0%|          | 0/126 [00:00<?, ?it/s]"
      ]
     },
     "metadata": {},
     "output_type": "display_data"
    },
    {
     "data": {
      "application/vnd.jupyter.widget-view+json": {
       "model_id": "080a962e80964a77a31196e6968f48ff",
       "version_major": 2,
       "version_minor": 0
      },
      "text/plain": [
       "  0%|          | 0/126 [00:00<?, ?it/s]"
      ]
     },
     "metadata": {},
     "output_type": "display_data"
    },
    {
     "data": {
      "application/vnd.jupyter.widget-view+json": {
       "model_id": "60bc1e6fa2b64b50a8e8ecd4f9c790f2",
       "version_major": 2,
       "version_minor": 0
      },
      "text/plain": [
       "  0%|          | 0/126 [00:00<?, ?it/s]"
      ]
     },
     "metadata": {},
     "output_type": "display_data"
    },
    {
     "data": {
      "application/vnd.jupyter.widget-view+json": {
       "model_id": "2b4f9445677b464a99edc9c6d20dce88",
       "version_major": 2,
       "version_minor": 0
      },
      "text/plain": [
       "  0%|          | 0/126 [00:00<?, ?it/s]"
      ]
     },
     "metadata": {},
     "output_type": "display_data"
    },
    {
     "data": {
      "application/vnd.jupyter.widget-view+json": {
       "model_id": "379b4d5f772540e88035af3fc554c113",
       "version_major": 2,
       "version_minor": 0
      },
      "text/plain": [
       "  0%|          | 0/126 [00:00<?, ?it/s]"
      ]
     },
     "metadata": {},
     "output_type": "display_data"
    },
    {
     "data": {
      "application/vnd.jupyter.widget-view+json": {
       "model_id": "a1c4c0dbcd0a49e49497b8bebf17d72a",
       "version_major": 2,
       "version_minor": 0
      },
      "text/plain": [
       "  0%|          | 0/126 [00:00<?, ?it/s]"
      ]
     },
     "metadata": {},
     "output_type": "display_data"
    },
    {
     "data": {
      "application/vnd.jupyter.widget-view+json": {
       "model_id": "0e17b6e986b14b928890e760125cb1db",
       "version_major": 2,
       "version_minor": 0
      },
      "text/plain": [
       "  0%|          | 0/126 [00:00<?, ?it/s]"
      ]
     },
     "metadata": {},
     "output_type": "display_data"
    },
    {
     "data": {
      "application/vnd.jupyter.widget-view+json": {
       "model_id": "0bf3891f45b04809aaa8519fe902f3ce",
       "version_major": 2,
       "version_minor": 0
      },
      "text/plain": [
       "  0%|          | 0/126 [00:00<?, ?it/s]"
      ]
     },
     "metadata": {},
     "output_type": "display_data"
    },
    {
     "data": {
      "application/vnd.jupyter.widget-view+json": {
       "model_id": "c332f28ce34c4be2aeb8413d2796fb0b",
       "version_major": 2,
       "version_minor": 0
      },
      "text/plain": [
       "  0%|          | 0/126 [00:00<?, ?it/s]"
      ]
     },
     "metadata": {},
     "output_type": "display_data"
    },
    {
     "data": {
      "application/vnd.jupyter.widget-view+json": {
       "model_id": "b9eec5b886594088a817248302ff7cab",
       "version_major": 2,
       "version_minor": 0
      },
      "text/plain": [
       "  0%|          | 0/126 [00:00<?, ?it/s]"
      ]
     },
     "metadata": {},
     "output_type": "display_data"
    },
    {
     "data": {
      "application/vnd.jupyter.widget-view+json": {
       "model_id": "02d90b0b39594927a153ab6abc75c000",
       "version_major": 2,
       "version_minor": 0
      },
      "text/plain": [
       "  0%|          | 0/126 [00:00<?, ?it/s]"
      ]
     },
     "metadata": {},
     "output_type": "display_data"
    },
    {
     "data": {
      "application/vnd.jupyter.widget-view+json": {
       "model_id": "61341569cd4242f79d93e4c7f39592d3",
       "version_major": 2,
       "version_minor": 0
      },
      "text/plain": [
       "  0%|          | 0/126 [00:00<?, ?it/s]"
      ]
     },
     "metadata": {},
     "output_type": "display_data"
    },
    {
     "data": {
      "application/vnd.jupyter.widget-view+json": {
       "model_id": "c33de429fff746b6a94d2fd91f3e7aad",
       "version_major": 2,
       "version_minor": 0
      },
      "text/plain": [
       "  0%|          | 0/126 [00:00<?, ?it/s]"
      ]
     },
     "metadata": {},
     "output_type": "display_data"
    },
    {
     "data": {
      "application/vnd.jupyter.widget-view+json": {
       "model_id": "451566125f5e4f3e977c49ad4e122d0d",
       "version_major": 2,
       "version_minor": 0
      },
      "text/plain": [
       "  0%|          | 0/126 [00:00<?, ?it/s]"
      ]
     },
     "metadata": {},
     "output_type": "display_data"
    }
   ],
   "source": [
    "from neighborhood import DomainDescription\n",
    "from sphMath.operations import sph_op\n",
    "from sphMath.kernels import getSPHKernelv2\n",
    "from util import buildRotationMatrix\n",
    "from neighborhood import coo_to_csr\n",
    "\n",
    "for file in files:\n",
    "    if 'valid' in file: \n",
    "        continue\n",
    "    inFile = h5py.File(os.path.join(folder, file), 'r')\n",
    "    dtype = torch.float32\n",
    "    device = torch.device('cpu')\n",
    "    metaData = folder + '/metadata.json'\n",
    "\n",
    "    parsedMetaData = json.load(open(metaData, 'r'))\n",
    "\n",
    "    parsedMetaData['bounds'][0]\n",
    "    dim = len(parsedMetaData['bounds'])\n",
    "    minExtent = []\n",
    "    maxExtent = []\n",
    "    for i in range(dim):\n",
    "        minExtent.append(parsedMetaData['bounds'][i][0])\n",
    "        maxExtent.append(parsedMetaData['bounds'][i][1])\n",
    "        \n",
    "\n",
    "    # print(minExtent, maxExtent)\n",
    "\n",
    "    periodic = parsedMetaData['periodic_boundary_conditions'][:dim]\n",
    "    # print(periodic)\n",
    "    domain = DomainDescription(\n",
    "        min = torch.tensor(minExtent, dtype = dtype, device =device),\n",
    "        max = torch.tensor(maxExtent, dtype = dtype, device =device),\n",
    "        periodic = torch.tensor(periodic, dtype = torch.bool, device = device),\n",
    "        dim = dim\n",
    "    )\n",
    "    trajectories = list(inFile.keys())\n",
    "    print(f'Found {len(trajectories)} trajectories in {file}')\n",
    "    for trajectory in trajectories:\n",
    "        # print(f'Loading trajectory {trajectory}')\n",
    "        outPath = os.path.join(folder + '_converted', file.split('.')[0] + f'/{trajectory}.h5')\n",
    "        # print(f'Output path: {outPath}')\n",
    "\n",
    "        os.makedirs(os.path.dirname(outPath), exist_ok=True)\n",
    "\n",
    "        outFile = h5py.File(outPath, 'w')\n",
    "        outFile.attrs['dataType'] = 'diffSPH'\n",
    "        outFile.attrs['version'] = 'LBench'\n",
    "\n",
    "        outFile.create_group('domain')\n",
    "        outFile['domain'].attrs['min'] = domain.min.cpu().numpy()\n",
    "        outFile['domain'].attrs['max'] = domain.max.cpu().numpy()\n",
    "        outFile['domain'].attrs['periodic'] = domain.periodic.cpu().numpy()\n",
    "        # outFile['domain']\n",
    "        outFile.create_group('config')\n",
    "\n",
    "        for key in parsedMetaData.keys():\n",
    "            # print(f'Setting attribute {key} to {parsedMetaData[key]}')\n",
    "            outFile['config'].attrs[key] = parsedMetaData[key]\n",
    "        outFile['config'].attrs['dt'] = parsedMetaData['dt'] * parsedMetaData['write_every']\n",
    "        outFile['config'].attrs['num_frames'] = len(inFile[trajectory]['position'])\n",
    "        outFile['config'].attrs['trajectory'] = trajectory\n",
    "        outFile['config'].attrs['kernel'] = 1\n",
    "\n",
    "        simulationDataGroup = outFile.create_group('simulationData')\n",
    "\n",
    "        for frame in tqdm(range(inFile[trajectory]['position'].shape[0]), leave = False):\n",
    "            state = loadFrame(inFile, trajectory, frame, parsedMetaData)\n",
    "            # state.saveToHDF5(simulationDataGroup, frame)\n",
    "            outGroup = simulationDataGroup.create_group(f'{frame:06d}')\n",
    "\n",
    "            outGroup.attrs['numParticles'] = state.numParticles\n",
    "            outGroup.attrs['time'] = state.time\n",
    "            outGroup.attrs['dt'] = state.dt\n",
    "\n",
    "            outGroup.create_dataset('positions', data=state.positions.cpu().numpy())\n",
    "            outGroup.create_dataset('supports', data=state.supports.cpu().numpy())\n",
    "            outGroup.create_dataset('masses', data=state.masses.cpu().numpy())\n",
    "            outGroup.create_dataset('densities', data=state.densities.cpu().numpy())\n",
    "            outGroup.create_dataset('velocities', data=state.velocities.cpu().numpy())\n",
    "            outGroup.create_dataset('kinds', data=state.kinds.cpu().numpy())\n",
    "            outGroup.create_dataset('materials', data=state.materials.cpu().numpy())\n",
    "            outGroup.create_dataset('UIDs', data=state.UIDs.cpu().numpy())\n",
    "\n",
    "            # break\n",
    "            # if frame > 100:\n",
    "                # break\n",
    "        outFile.close()\n",
    "    inFile.close()\n",
    "    # break\n",
    "# print(domain)"
   ]
  },
  {
   "cell_type": "code",
   "execution_count": null,
   "id": "7918f4e6",
   "metadata": {},
   "outputs": [],
   "source": [
    "inFile.close()\n",
    "outFile.close()"
   ]
  },
  {
   "cell_type": "code",
   "execution_count": null,
   "id": "91fe651e",
   "metadata": {},
   "outputs": [],
   "source": [
    "outPath = os.path.join(folder + '_converted', files[0].split('.')[0] + f'/{trajectory}.h5')\n",
    "\n",
    "os.makedirs(os.path.dirname(outPath), exist_ok=True)\n",
    "\n",
    "outFile = h5py.File(outPath, 'w')\n",
    "\n",
    "outFile.create_group('domain')\n",
    "outFile['domain'].attrs['min'] = domain.min.cpu().numpy()\n",
    "outFile['domain'].attrs['max'] = domain.max.cpu().numpy()\n",
    "outFile['domain'].attrs['periodic'] = domain.periodic.cpu().numpy()\n",
    "# outFile['domain']\n",
    "outFile.create_group('config')\n",
    "\n",
    "for key in parsedMetaData.keys():\n",
    "    # print(f'Setting attribute {key} to {parsedMetaData[key]}')\n",
    "    outFile['config'].attrs[key] = parsedMetaData[key]\n",
    "outFile['config'].attrs['dt'] = parsedMetaData['dt'] * parsedMetaData['write_every']\n",
    "outFile['config'].attrs['num_frames'] = len(inFile[trajectory]['position'])\n",
    "outFile['config'].attrs['trajectory'] = trajectory\n",
    "\n",
    "simulationDataGroup = outFile.create_group('simulationData')\n",
    "\n",
    "for frame in tqdm(range(inFile[trajectory]['position'].shape[0])):\n",
    "    state = loadFrame(inFile, trajectory, frame, parsedMetaData)\n",
    "    # state.saveToHDF5(simulationDataGroup, frame)\n",
    "    outGroup = simulationDataGroup.create_group(f'{frame:06d}')\n",
    "\n",
    "    outGroup.attrs['numParticles'] = state.numParticles\n",
    "    outGroup.attrs['time'] = state.time\n",
    "    outGroup.attrs['dt'] = state.dt\n",
    "\n",
    "    outGroup.create_dataset('positions', data=state.positions.cpu().numpy())\n",
    "    outGroup.create_dataset('supports', data=state.supports.cpu().numpy())\n",
    "    outGroup.create_dataset('masses', data=state.masses.cpu().numpy())\n",
    "    outGroup.create_dataset('densities', data=state.densities.cpu().numpy())\n",
    "    outGroup.create_dataset('velocities', data=state.velocities.cpu().numpy())\n",
    "    outGroup.create_dataset('kinds', data=state.kinds.cpu().numpy())\n",
    "    outGroup.create_dataset('materials', data=state.materials.cpu().numpy())\n",
    "    outGroup.create_dataset('UIDs', data=state.UIDs.cpu().numpy())\n",
    "\n",
    "    # break\n",
    "\n",
    "outFile.close()"
   ]
  },
  {
   "cell_type": "code",
   "execution_count": null,
   "id": "07835528",
   "metadata": {},
   "outputs": [],
   "source": [
    "state = loadFrame(inFile, trajectory, frame, parsedMetaData)"
   ]
  },
  {
   "cell_type": "code",
   "execution_count": null,
   "id": "4f18e222",
   "metadata": {},
   "outputs": [],
   "source": [
    "from sphMath.enums import KernelType\n",
    "fig, axis = plt.subplots(1, 2, figsize=(10, 5), squeeze = False)\n",
    "# filteredNeighborhood = filterNeighborhoodByKind(currentStates[0], neighborhoods[0], 'noghost')\n",
    "\n",
    "plots = []\n",
    "axes = axis.flatten()\n",
    "\n",
    "plot = visualizeParticles(fig, axes[0],\n",
    "                            particles = state,\n",
    "                            domain = domain,\n",
    "                            quantity = state.velocities,\n",
    "                            which = 'both',\n",
    "                            mapping = '.x',\n",
    "                            cmap = 'viridis',\n",
    "                            visualizeBoth=True,\n",
    "                            kernel = KernelType.CubicSpline,\n",
    "                            plotDomain = True,\n",
    "                            gridVisualization=False, markerSize=2)\n",
    "\n",
    "\n",
    "plot = visualizeParticles(fig, axes[1],\n",
    "                            particles = state,\n",
    "                            domain = domain,\n",
    "                            quantity = filtered_csr.rowEntries,\n",
    "                            which = 'both',\n",
    "                            mapping = '.x',\n",
    "                            cmap = 'viridis',\n",
    "                            visualizeBoth=True,\n",
    "                            kernel = KernelType.CubicSpline,\n",
    "                            plotDomain = True,\n",
    "                            gridVisualization=False, markerSize=2)\n",
    "plots.append(plot)\n",
    "\n",
    "fig.tight_layout()"
   ]
  },
  {
   "cell_type": "code",
   "execution_count": null,
   "id": "fb3576fd",
   "metadata": {},
   "outputs": [],
   "source": []
  }
 ],
 "metadata": {
  "kernelspec": {
   "display_name": "sphEnv",
   "language": "python",
   "name": "python3"
  },
  "language_info": {
   "codemirror_mode": {
    "name": "ipython",
    "version": 3
   },
   "file_extension": ".py",
   "mimetype": "text/x-python",
   "name": "python",
   "nbconvert_exporter": "python",
   "pygments_lexer": "ipython3",
   "version": "3.12.9"
  }
 },
 "nbformat": 4,
 "nbformat_minor": 5
}
